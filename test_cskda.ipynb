{
 "cells": [
  {
   "cell_type": "markdown",
   "execution_count": 1,
   "metadata": {},
   "outputs": [],
   "source": [
    "# 测试 CS_KDA"
   ]
  },
  {
   "cell_type": "code",
   "execution_count": null,
   "metadata": {},
   "outputs": [
    {
     "evalue": "Error: Jupyter server crashed. Unable to connect. \r\nError code from jupyter: 1",
     "output_type": "error"
    }
   ],
   "source": [
    "import numpy as np\n",
    "import pandas as pd\n",
    "import matplotlib.pyplot as plt\n",
    "import matplotlib.image as mpimg\n",
    "import os\n",
    "\n",
    "from BSIF import BSIF \n",
    "from BSIF import train_filters\n",
    "from MRF import mrf\n",
    "from CS_KDA import CS_KDA"
   ]
  },
  {
   "cell_type": "markdown",
   "execution_count": null,
   "metadata": {},
   "outputs": [],
   "source": [
    "### 生成测试集合和训练集合"
   ]
  },
  {
   "cell_type": "code",
   "execution_count": 29,
   "metadata": {},
   "outputs": [
    {
     "name": "stdout",
     "output_type": "stream",
     "text": "抽取200imposters\n各抽取50组正负样本\n"
    }
   ],
   "source": [
    "import random\n",
    "import shutil\n",
    "\n",
    "#从不同人物集合中随机抽取2*num1个构成imposters集合(num1最大1600))\n",
    "#随机抽取num2组相同人物，num2组不同人物构成测试集（test1)\n",
    "num1=1600\n",
    "num2=300\n",
    "\n",
    "print(\"抽取\"+str(2*num1)+\"个imposters\")\n",
    "path1=os.path.join('test','0')\n",
    "path2='imposters'\n",
    "\n",
    "try:\n",
    "    os.mkdir(path2)\n",
    "except:\n",
    "    shutil.rmtree(path2)\n",
    "    os.mkdir(path2)\n",
    "\n",
    "dirs=os.listdir(path1)\n",
    "for dir in random.sample(dirs,num1):\n",
    "    files=os.listdir(os.path.join(path1,dir))\n",
    "    shutil.copyfile(os.path.join(path1,dir,files[0]),os.path.join(path2,files[0]))\n",
    "    shutil.copyfile(os.path.join(path1,dir,files[1]),os.path.join(path2,files[1]))\n",
    "\n",
    "print(\"各抽取\"+str(num2)+\"组正负样本\")\n",
    "path1='test'\n",
    "paths=[os.path.join(path1,'0'),os.path.join(path1,'1')]\n",
    "path2='test1'\n",
    "\n",
    "try:\n",
    "    os.mkdir(path2)\n",
    "except:\n",
    "    shutil.rmtree(path2)\n",
    "    os.mkdir(path2)\n",
    "\n",
    "for y,path in enumerate(paths):\n",
    "    dirs=os.listdir(path)\n",
    "    n=0\n",
    "    for dir in random.sample(dirs,num2):\n",
    "        n=n+1\n",
    "        shutil.copytree(os.path.join(path,dir),os.path.join(path2,str(y),str(n)))"
   ]
  },
  {
   "cell_type": "markdown",
   "execution_count": null,
   "metadata": {},
   "outputs": [],
   "source": [
    "### 测试"
   ]
  },
  {
   "cell_type": "code",
   "execution_count": null,
   "metadata": {},
   "outputs": [],
   "source": [
    "import multiprocessing as threading\n",
    "def myThread(path1,path2,dirs,count):\n",
    "    print(path1,count)\n",
    "    for dir in dirs:\n",
    "        temp=os.path.join(path1,dir)\n",
    "        os.mkdir(os.path.join(path2,dir))\n",
    "        files=os.listdir(temp)\n",
    "        for name in files:\n",
    "            pic=myread_img(os.path.join(path1,dir,name))\n",
    "            pic=mrf(pic)\n",
    "            #res=BSIF(pic)\n",
    "            #np.save(os.path.join(path2,dir,name[:-4]),res)\n",
    "            plt.imsave(os.path.join(path2,dir,name),pic)\n",
    "        \n",
    "    print(path1,count,\"over\")"
   ]
  },
  {
   "cell_type": "code",
   "execution_count": 28,
   "metadata": {},
   "outputs": [
    {
     "name": "stdout",
     "output_type": "stream",
     "text": "开始预测0集\n开始预测0集正确率: 0.54\n开始预测1集\n开始预测1集正确率: 0.56\n总正确率： 0.55\n"
    }
   ],
   "source": [
    "#开始测试\n",
    "print(\"初始化imposters类\")\n",
    "model=CS_KDA()\n",
    "paths=[os.path.join(\"test1\",\"0\"),os.path.join(\"test1\",\"1\")]\n",
    "ac=[]\n",
    "for y,path in enumerate(paths):\n",
    "    print(\"开始预测\"+str(y)+\"集\")\n",
    "    dirs=os.listdir(path)\n",
    "    res=[]\n",
    "    for dir in dirs:\n",
    "        files=os.listdir(os.path.join(path,dir))\n",
    "        pic1=model.read_img(os.path.join(path,dir,files[0]))\n",
    "        pic2=model.read_img(os.path.join(path,dir,files[1]))\n",
    "        res.append(model.predict(pic1,pic2))\n",
    "    \n",
    "    \n",
    "    #print(res)\n",
    "    res=np.array(res)\n",
    "    print(\"预测\"+str(y)+\"集正确率:\",np.sum(res==y)/res.size)\n",
    "    ac.append(np.sum(res==y)/res.size)\n",
    "print(\"总正确率：\",(ac[0]+ac[1])/2)"
   ]
  },
  {
   "cell_type": "code",
   "execution_count": 9,
   "metadata": {},
   "outputs": [],
   "source": [
    "import multiprocessing as threading\n",
    "def myThread(a):\n",
    "    a=a+1       \n",
    "    return a"
   ]
  },
  {
   "cell_type": "code",
   "execution_count": 19,
   "metadata": {},
   "outputs": [],
   "source": [
    "from multiprocessing import Pool\n",
    "\n",
    "def f(x):\n",
    "    return x*x\n",
    "\n",
    "if __name__ == '__main__':\n",
    "    with Pool(5) as p:\n",
    "        print(p.map(f, [1, 2, 3]))"
   ]
  },
  {
   "cell_type": "code",
   "execution_count": null,
   "metadata": {},
   "outputs": [],
   "source": []
  }
 ],
 "metadata": {
  "kernelspec": {
   "display_name": "Python 3",
   "language": "python",
   "name": "python3"
  },
  "language_info": {
   "codemirror_mode": {
    "name": "ipython",
    "version": 3
   },
   "file_extension": ".py",
   "mimetype": "text/x-python",
   "name": "python",
   "nbconvert_exporter": "python",
   "pygments_lexer": "ipython3",
   "version": "3.7.4"
  }
 },
 "nbformat": 4,
 "nbformat_minor": 4
}