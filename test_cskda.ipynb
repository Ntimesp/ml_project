{
 "cells": [
  {
   "cell_type": "markdown",
   "execution_count": 1,
   "metadata": {},
   "outputs": [],
   "source": [
    "# 测试 CS_KDA"
   ]
  },
  {
   "cell_type": "code",
   "execution_count": 5,
   "metadata": {},
   "outputs": [],
   "source": [
    "import numpy as np\n",
    "import pandas as pd\n",
    "import matplotlib.pyplot as plt\n",
    "import matplotlib.image as mpimg\n",
    "import os"
   ]
  },
  {
   "cell_type": "code",
   "execution_count": null,
   "metadata": {},
   "outputs": [],
   "source": [
    "M=10**9\n",
    "\n",
    "class CS_KDA():\n",
    "    def __init__(self):\n",
    "        #初始化\n",
    "        path='imposters'\n",
    "        files=os.listdir(path)\n",
    "        n=len(files)\n",
    "        self.K=np.zeros((n,n))\n",
    "        self.pics=[]\n",
    "\n",
    "        for i in range(n):\n",
    "            pic=self.read_img(os.path.join(path,files[i]))\n",
    "            self.pics.append(pic)\n",
    "\n",
    "        #计算K\n",
    "        sum=0\n",
    "        for i in range(n):\n",
    "            pic1=self.pics[i]\n",
    "            sum+=pic1\n",
    "            for j in range(i,n):\n",
    "                pic2=self.pics[j]\n",
    "                self.K[i,j]=self.K[j,i]=self.kernel(pic1,pic2)\n",
    "                \n",
    "        self.mean=sum/n\n",
    "        self.Kv=np.zeros((n,1))\n",
    "        \n",
    "        #K(x_i,\\eta)\n",
    "        for i in range(n):\n",
    "            pic=self.read_img(os.path.join(self.path,self.files[i]))\n",
    "            self.Kv[i]=self.kernel(self.mean,pic)\n",
    "        \n",
    "    def read_img(self,name):\n",
    "        #读入指定路径的图片，并返回灰度图(还需加上预处理)\n",
    "        pic=mpimg.imread(name)\n",
    "        return np.dot(pic[...,:3], [0.299, 0.587, 0.114])\n",
    "    \n",
    "    def kernel(self,pic1,pic2):\n",
    "        #计算kernel变换后的内积\n",
    "        temp=-np.sum((pic1-pic2)**2)/M\n",
    "        return np.exp(temp)\n",
    "    \n",
    "    def predict(self,pic1,pic2):\n",
    "        \n",
    "        n=self.K.shape[0]\n",
    "        \n",
    "        #计算第二个类的K\n",
    "        K=np.zeros((n+1,n+1))\n",
    "        K[:n,:n]=self.K\n",
    "        for i in range(n):\n",
    "            temp=self.pics[i]\n",
    "            K[i,n]=K[n,i]=self.kernel(pic1,temp)\n",
    "            \n",
    "        K[n,n]=self.kernel(pic1,pic1)\n",
    "        \n",
    "        #计算第二个类的KV\n",
    "        mean=self.mean\n",
    "        Kv=np.zeros((n+1,1))\n",
    "        for i in range(n):\n",
    "            temp=self.pics[i]\n",
    "            Kv[i]=self.kernel(mean,temp)\n",
    "                            \n",
    "        Kv[n]=self.kernel(mean,pic1)\n",
    "                                \n",
    "        \n",
    "        #计算pic2和两个类的相似度\n",
    "\n",
    "        Kv2=np.zeros((n+1,1))\n",
    "        for i in range(n):\n",
    "            temp=self.pics[i]\n",
    "            Kv2[i]=self.kernel(pic2,temp)\n",
    "                                \n",
    "        Kv2[n]=self.kernel(pic2,pic1)\n",
    "                                \n",
    "        likelihood1=self.test(self.K,self.Kv-Kv2[:n])\n",
    "        likelihood2=self.test(K,Kv-Kv2)\n",
    "        \n",
    "        if(likelihood1<likelihood2):\n",
    "            print(1)\n",
    "        else:\n",
    "            print(0)\n",
    "            \n",
    "    def test(self,K,diff):\n",
    "        n=K.shape[0]\n",
    "        y=np.zeros((n,1))\n",
    "        y[:(n-1)]=-1/(n*(n-1))**0.5\n",
    "        y[n-1]=((n-1)/n)**0.5\n",
    "        return abs((np.linalg.pinv(K).dot(y)).T.dot(diff))"
   ]
  },
  {
   "cell_type": "code",
   "execution_count": null,
   "metadata": {},
   "outputs": [],
   "source": [
    "import random\n",
    "import shutil\n",
    "path1=os.path.join('LFW','match pairs')\n",
    "path2='imposters'\n",
    "dirs=os.listdir(path1)\n",
    "for dir in random.sample(dirs,30):\n",
    "    files=os.listdir(os.path.join(path1,dir))\n",
    "    shutil.copyfile(os.path.join(path1,dir,files[0]),os.path.join(path2,files[0]))"
   ]
  },
  {
   "cell_type": "code",
   "execution_count": null,
   "metadata": {},
   "outputs": [],
   "source": [
    "model=CS_KDA()\n"
   ]
  },
  {
   "cell_type": "code",
   "execution_count": null,
   "metadata": {},
   "outputs": [],
   "source": []
  },
  {
   "cell_type": "code",
   "execution_count": null,
   "metadata": {},
   "outputs": [],
   "source": []
  },
  {
   "cell_type": "code",
   "execution_count": null,
   "metadata": {},
   "outputs": [],
   "source": []
  }
 ],
 "metadata": {
  "kernelspec": {
   "display_name": "Python 3",
   "language": "python",
   "name": "python3"
  },
  "language_info": {
   "codemirror_mode": {
    "name": "ipython",
    "version": 3
   },
   "file_extension": ".py",
   "mimetype": "text/x-python",
   "name": "python",
   "nbconvert_exporter": "python",
   "pygments_lexer": "ipython3",
   "version": "3.7.4"
  }
 },
 "nbformat": 4,
 "nbformat_minor": 4
}