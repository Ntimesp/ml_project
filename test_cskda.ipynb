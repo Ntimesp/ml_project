{
 "cells": [
  {
   "cell_type": "markdown",
   "execution_count": 1,
   "metadata": {},
   "outputs": [],
   "source": [
    "# 测试 CS_KDA"
   ]
  },
  {
   "source": [
    "import numpy as np\n",
    "import pandas as pd\n",
    "import matplotlib.pyplot as plt\n",
    "import matplotlib.image as mpimg\n",
    "import os\n",
    "\n",
    "from BSIF import BSIF \n",
    "from BSIF import train_filters\n",
    "from MRF import mrf\n",
    "from CS_KDA import CS_KDA"
   ],
   "cell_type": "code",
   "outputs": [],
   "metadata": {},
   "execution_count": 34
  },
  {
   "source": [
    "M=10**9\n",
    "\n",
    "class CS_KDA():\n",
    "    def __init__(self):\n",
    "        #初始化\n",
    "        path='imposters'\n",
    "        files=os.listdir(path)\n",
    "        n=len(files)\n",
    "        self.K=np.zeros((n,n))\n",
    "        self.pics=[]\n",
    "\n",
    "        for i in range(n):\n",
    "            pic=self.read_img(os.path.join(path,files[i]))\n",
    "            self.pics.append(pic)\n",
    "\n",
    "        #计算K\n",
    "        sum=0\n",
    "        for i in range(n):\n",
    "            pic1=self.pics[i]\n",
    "            sum+=pic1\n",
    "            for j in range(i,n):\n",
    "                pic2=self.pics[j]\n",
    "                self.K[i,j]=self.K[j,i]=self.kernel(pic1,pic2)\n",
    "                \n",
    "        self.mean=sum/n\n",
    "        self.Kv=np.zeros((n,1))\n",
    "        \n",
    "        #K(x_i,\\eta)\n",
    "        for i in range(n):\n",
    "            pic=self.read_img(os.path.join(path,files[i]))\n",
    "            self.Kv[i]=self.kernel(self.mean,pic)\n",
    "        \n",
    "    def read_img(self,name):\n",
    "        #读入指定路径的图片，并返回灰度图(还需加上预处理)\n",
    "        pic=mpimg.imread(name)\n",
    "        pic=np.dot(pic[...,:3], [0.299, 0.587, 0.114])\n",
    "        pic=mrf(pic)\n",
    "        pic=BSIF(pic)\n",
    "\n",
    "        return pic\n",
    "    \n",
    "    def kernel(self,pic1,pic2):\n",
    "        #计算kernel变换后的内积\n",
    "        temp=-np.sum((pic1-pic2)**2)/M\n",
    "        return np.exp(temp)\n",
    "    \n",
    "    def predict(self,pic1,pic2):\n",
    "        \n",
    "        n=self.K.shape[0]\n",
    "        \n",
    "        #计算第二个类的K\n",
    "        K=np.zeros((n+1,n+1))\n",
    "        K[:n,:n]=self.K\n",
    "        for i in range(n):\n",
    "            temp=self.pics[i]\n",
    "            K[i,n]=K[n,i]=self.kernel(pic1,temp)\n",
    "            \n",
    "        K[n,n]=self.kernel(pic1,pic1)\n",
    "        \n",
    "        #计算第二个类的KV\n",
    "        mean=self.mean\n",
    "        Kv=np.zeros((n+1,1))\n",
    "        for i in range(n):\n",
    "            temp=self.pics[i]\n",
    "            Kv[i]=self.kernel(mean,temp)\n",
    "                            \n",
    "        Kv[n]=self.kernel(mean,pic1)\n",
    "                                \n",
    "        \n",
    "        #计算pic2和两个类的相似度\n",
    "\n",
    "        Kv2=np.zeros((n+1,1))\n",
    "        for i in range(n):\n",
    "            temp=self.pics[i]\n",
    "            Kv2[i]=self.kernel(pic2,temp)\n",
    "                                \n",
    "        Kv2[n]=self.kernel(pic2,pic1)\n",
    "                                \n",
    "        likelihood1=self.test(self.K,self.Kv-Kv2[:n])\n",
    "        likelihood2=self.test(K,Kv-Kv2)\n",
    "        \n",
    "        if(likelihood1<likelihood2):\n",
    "            return 1\n",
    "        else:\n",
    "            return 0\n",
    "            \n",
    "    def test(self,K,diff):\n",
    "        n=K.shape[0]\n",
    "        y=np.zeros((n,1))\n",
    "        y[:(n-1)]=-1/(n*(n-1))**0.5\n",
    "        y[n-1]=((n-1)/n)**0.5\n",
    "        return abs((np.linalg.pinv(K).dot(y)).T.dot(diff))"
   ],
   "cell_type": "code",
   "outputs": [],
   "metadata": {},
   "execution_count": 33
  },
  {
   "cell_type": "markdown",
   "execution_count": null,
   "metadata": {},
   "outputs": [],
   "source": [
    "### 生成测试集合和训练集合"
   ]
  },
  {
   "source": [
    "import random\n",
    "import shutil\n",
    "path1=os.path.join('LFW','mismatch pairs')\n",
    "path2='imposters'\n",
    "\n",
    "try:\n",
    "    os.mkdir(path2)\n",
    "except:\n",
    "    shutil.rmtree(path2)\n",
    "    os.mkdir(path2)\n",
    "\n",
    "dirs=os.listdir(path1)\n",
    "for dir in random.sample(dirs,20):\n",
    "    files=os.listdir(os.path.join(path1,dir))\n",
    "    shutil.copyfile(os.path.join(path1,dir,files[0]),os.path.join(path2,files[0]))"
   ],
   "cell_type": "code",
   "outputs": [],
   "metadata": {},
   "execution_count": 12
  },
  {
   "source": [
    "paths=[os.path.join('LFW','mismatch pairs'),os.path.join('LFW','match pairs')]\n",
    "path2='test'\n",
    "\n",
    "try:\n",
    "    os.mkdir(path2)\n",
    "except:\n",
    "    shutil.rmtree(path2)\n",
    "    os.mkdir(path2)\n",
    "\n",
    "for y,path in enumerate(paths):\n",
    "    dirs=os.listdir(path)\n",
    "    n=0\n",
    "    for dir in random.sample(dirs,20):\n",
    "        n=n+1\n",
    "        files=os.listdir(os.path.join(path1,dir))\n",
    "        shutil.copytree(os.path.join(path,dir),os.path.join(path2,str(y),str(n+1)))"
   ],
   "cell_type": "code",
   "outputs": [],
   "metadata": {},
   "execution_count": 13
  },
  {
   "cell_type": "markdown",
   "execution_count": null,
   "metadata": {},
   "outputs": [],
   "source": [
    "### 测试"
   ]
  },
  {
   "source": [
    "model=CS_KDA()"
   ],
   "cell_type": "code",
   "outputs": [
    {
     "output_type": "error",
     "ename": "ZeroDivisionError",
     "evalue": "division by zero",
     "traceback": [
      "\u001b[1;31m---------------------------------------------------------------------------\u001b[0m",
      "\u001b[1;31mZeroDivisionError\u001b[0m                         Traceback (most recent call last)",
      "\u001b[1;32m<ipython-input-17-b2147610ac3f>\u001b[0m in \u001b[0;36m<module>\u001b[1;34m\u001b[0m\n\u001b[1;32m----> 1\u001b[1;33m \u001b[0mmodel\u001b[0m\u001b[1;33m=\u001b[0m\u001b[0mCS_KDA\u001b[0m\u001b[1;33m(\u001b[0m\u001b[1;33m)\u001b[0m\u001b[1;33m\u001b[0m\u001b[1;33m\u001b[0m\u001b[0m\n\u001b[0m",
      "\u001b[1;32m<ipython-input-16-b914af16a1e1>\u001b[0m in \u001b[0;36m__init__\u001b[1;34m(self)\u001b[0m\n\u001b[0;32m     23\u001b[0m                 \u001b[0mself\u001b[0m\u001b[1;33m.\u001b[0m\u001b[0mK\u001b[0m\u001b[1;33m[\u001b[0m\u001b[0mi\u001b[0m\u001b[1;33m,\u001b[0m\u001b[0mj\u001b[0m\u001b[1;33m]\u001b[0m\u001b[1;33m=\u001b[0m\u001b[0mself\u001b[0m\u001b[1;33m.\u001b[0m\u001b[0mK\u001b[0m\u001b[1;33m[\u001b[0m\u001b[0mj\u001b[0m\u001b[1;33m,\u001b[0m\u001b[0mi\u001b[0m\u001b[1;33m]\u001b[0m\u001b[1;33m=\u001b[0m\u001b[0mself\u001b[0m\u001b[1;33m.\u001b[0m\u001b[0mkernel\u001b[0m\u001b[1;33m(\u001b[0m\u001b[0mpic1\u001b[0m\u001b[1;33m,\u001b[0m\u001b[0mpic2\u001b[0m\u001b[1;33m)\u001b[0m\u001b[1;33m\u001b[0m\u001b[1;33m\u001b[0m\u001b[0m\n\u001b[0;32m     24\u001b[0m \u001b[1;33m\u001b[0m\u001b[0m\n\u001b[1;32m---> 25\u001b[1;33m         \u001b[0mself\u001b[0m\u001b[1;33m.\u001b[0m\u001b[0mmean\u001b[0m\u001b[1;33m=\u001b[0m\u001b[0msum\u001b[0m\u001b[1;33m/\u001b[0m\u001b[0mn\u001b[0m\u001b[1;33m\u001b[0m\u001b[1;33m\u001b[0m\u001b[0m\n\u001b[0m\u001b[0;32m     26\u001b[0m         \u001b[0mself\u001b[0m\u001b[1;33m.\u001b[0m\u001b[0mKv\u001b[0m\u001b[1;33m=\u001b[0m\u001b[0mnp\u001b[0m\u001b[1;33m.\u001b[0m\u001b[0mzeros\u001b[0m\u001b[1;33m(\u001b[0m\u001b[1;33m(\u001b[0m\u001b[0mn\u001b[0m\u001b[1;33m,\u001b[0m\u001b[1;36m1\u001b[0m\u001b[1;33m)\u001b[0m\u001b[1;33m)\u001b[0m\u001b[1;33m\u001b[0m\u001b[1;33m\u001b[0m\u001b[0m\n\u001b[0;32m     27\u001b[0m \u001b[1;33m\u001b[0m\u001b[0m\n",
      "\u001b[1;31mZeroDivisionError\u001b[0m: division by zero"
     ]
    }
   ],
   "metadata": {},
   "execution_count": 17
  },
  {
   "source": [
    "paths=[os.path.join(\"test\",\"0\"),os.path.join(\"test\",\"1\")]\n",
    "for y,path in enumerate(paths):\n",
    "    dirs=os.listdir(path)\n",
    "    res=[]\n",
    "    for dir in dirs:\n",
    "        files=os.listdir(os.path.join(path,dir))\n",
    "        pic1=model.read_img(os.path.join(path,dir,files[0]))\n",
    "        pic2=model.read_img(os.path.join(path,dir,files[1]))\n",
    "        res.append(model.predict(pic1,pic2))\n",
    "\n",
    "    print(path)\n",
    "    print(res)\n",
    "    res=np.array(res)\n",
    "    print(np.sum(res==y)/res.size)"
   ],
   "cell_type": "code",
   "outputs": [
    {
     "output_type": "error",
     "ename": "NameError",
     "evalue": "name 'os' is not defined",
     "traceback": [
      "\u001b[1;31m---------------------------------------------------------------------------\u001b[0m",
      "\u001b[1;31mNameError\u001b[0m                                 Traceback (most recent call last)",
      "\u001b[1;32m<ipython-input-1-74846b3141a1>\u001b[0m in \u001b[0;36m<module>\u001b[1;34m\u001b[0m\n\u001b[1;32m----> 1\u001b[1;33m \u001b[0mpaths\u001b[0m\u001b[1;33m=\u001b[0m\u001b[1;33m[\u001b[0m\u001b[0mos\u001b[0m\u001b[1;33m.\u001b[0m\u001b[0mpath\u001b[0m\u001b[1;33m.\u001b[0m\u001b[0mjoin\u001b[0m\u001b[1;33m(\u001b[0m\u001b[1;34m\"test\"\u001b[0m\u001b[1;33m,\u001b[0m\u001b[1;34m\"0\"\u001b[0m\u001b[1;33m)\u001b[0m\u001b[1;33m,\u001b[0m\u001b[0mos\u001b[0m\u001b[1;33m.\u001b[0m\u001b[0mpath\u001b[0m\u001b[1;33m.\u001b[0m\u001b[0mjoin\u001b[0m\u001b[1;33m(\u001b[0m\u001b[1;34m\"test\"\u001b[0m\u001b[1;33m,\u001b[0m\u001b[1;34m\"1\"\u001b[0m\u001b[1;33m)\u001b[0m\u001b[1;33m]\u001b[0m\u001b[1;33m\u001b[0m\u001b[1;33m\u001b[0m\u001b[0m\n\u001b[0m\u001b[0;32m      2\u001b[0m \u001b[1;32mfor\u001b[0m \u001b[0my\u001b[0m\u001b[1;33m,\u001b[0m\u001b[0mpath\u001b[0m \u001b[1;32min\u001b[0m \u001b[0menumerate\u001b[0m\u001b[1;33m(\u001b[0m\u001b[0mpaths\u001b[0m\u001b[1;33m)\u001b[0m\u001b[1;33m:\u001b[0m\u001b[1;33m\u001b[0m\u001b[1;33m\u001b[0m\u001b[0m\n\u001b[0;32m      3\u001b[0m     \u001b[0mdirs\u001b[0m\u001b[1;33m=\u001b[0m\u001b[0mos\u001b[0m\u001b[1;33m.\u001b[0m\u001b[0mlistdir\u001b[0m\u001b[1;33m(\u001b[0m\u001b[0mpath\u001b[0m\u001b[1;33m)\u001b[0m\u001b[1;33m\u001b[0m\u001b[1;33m\u001b[0m\u001b[0m\n\u001b[0;32m      4\u001b[0m     \u001b[0mres\u001b[0m\u001b[1;33m=\u001b[0m\u001b[1;33m[\u001b[0m\u001b[1;33m]\u001b[0m\u001b[1;33m\u001b[0m\u001b[1;33m\u001b[0m\u001b[0m\n\u001b[0;32m      5\u001b[0m     \u001b[1;32mfor\u001b[0m \u001b[0mdir\u001b[0m \u001b[1;32min\u001b[0m \u001b[0mdirs\u001b[0m\u001b[1;33m:\u001b[0m\u001b[1;33m\u001b[0m\u001b[1;33m\u001b[0m\u001b[0m\n",
      "\u001b[1;31mNameError\u001b[0m: name 'os' is not defined"
     ]
    }
   ],
   "metadata": {},
   "execution_count": 1
  }
 ],
 "metadata": {
  "kernelspec": {
   "display_name": "Python 3",
   "language": "python",
   "name": "python3"
  },
  "language_info": {
   "codemirror_mode": {
    "name": "ipython",
    "version": 3
   },
   "file_extension": ".py",
   "mimetype": "text/x-python",
   "name": "python",
   "nbconvert_exporter": "python",
   "pygments_lexer": "ipython3",
   "version": "3.7.4"
  }
 },
 "nbformat": 4,
 "nbformat_minor": 4
}